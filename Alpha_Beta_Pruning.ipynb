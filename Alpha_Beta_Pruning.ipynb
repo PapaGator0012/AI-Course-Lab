{
  "nbformat": 4,
  "nbformat_minor": 0,
  "metadata": {
    "colab": {
      "provenance": []
    },
    "kernelspec": {
      "name": "python3",
      "display_name": "Python 3"
    },
    "language_info": {
      "name": "python"
    }
  },
  "cells": [
    {
      "cell_type": "code",
      "execution_count": null,
      "metadata": {
        "colab": {
          "base_uri": "https://localhost:8080/"
        },
        "id": "O8XjgB9OSG8o",
        "outputId": "f447767b-32fc-4fbc-dd15-be536b64567d"
      },
      "outputs": [
        {
          "output_type": "stream",
          "name": "stdout",
          "text": [
            "The optimal value is: 5\n"
          ]
        }
      ],
      "source": [
        "#3, 5, 6, 9, 1, 2, 0, -1\n",
        "\n",
        "# Function to implement minimax with alpha-beta pruning\n",
        "def alpha_beta_pruning(depth, nodeIndex, isMax, values, alpha, beta, maxDepth):\n",
        "    # Base case: when we reach a leaf node\n",
        "    if depth == maxDepth:\n",
        "        return values[nodeIndex]\n",
        "\n",
        "    if isMax:\n",
        "        best = float('-inf')\n",
        "\n",
        "        # Recur for left and right children\n",
        "        for i in range(2):\n",
        "            val = alpha_beta_pruning(depth + 1, nodeIndex * 2 + i, False, values, alpha, beta, maxDepth)\n",
        "            best = max(best, val)\n",
        "            alpha = max(alpha, best)\n",
        "\n",
        "            # Alpha Beta Pruning condition\n",
        "            if beta <= alpha:\n",
        "                break\n",
        "\n",
        "        return best\n",
        "    else:\n",
        "        best = float('inf')\n",
        "\n",
        "        # Recur for left and right children\n",
        "        for i in range(2):\n",
        "            val = alpha_beta_pruning(depth + 1, nodeIndex * 2 + i, True, values, alpha, beta, maxDepth)\n",
        "            best = min(best, val)\n",
        "            beta = min(beta, best)\n",
        "\n",
        "            # Alpha Beta Pruning condition\n",
        "            if beta <= alpha:\n",
        "                break\n",
        "\n",
        "        return best\n",
        "\n",
        "\n",
        "# Example tree from the image:\n",
        "# Leaf node values (left to right): 3, 5, 6, 9, 1, 2, 0, -1\n",
        "values = [3, 5, 6, 9, 1, 2, 0, -1]\n",
        "maxDepth = 3\n",
        "\n",
        "# Initial alpha and beta values\n",
        "alpha = float('-inf')\n",
        "beta = float('inf')\n",
        "\n",
        "# Root node call\n",
        "print(\"The optimal value is:\", alpha_beta_pruning(0, 0, True, values, alpha, beta, maxDepth))"
      ]
    },
    {
      "cell_type": "code",
      "source": [
        "MAX, MIN = 1000, -1000\n",
        "\n",
        "def minmax(depth, nodeIndex, maximizingPlayer, values, alpha, beta):\n",
        "    if depth == 3:\n",
        "        return values[nodeIndex]\n",
        "\n",
        "    if maximizingPlayer:\n",
        "        best = MIN\n",
        "\n",
        "        # Recur for left and right children\n",
        "        for i in range(0, 2):\n",
        "            val = minmax(depth + 1, nodeIndex * 2 + i, False, values, alpha, beta)\n",
        "            best = max(best, val)\n",
        "            alpha = max(alpha, best)\n",
        "\n",
        "            # Alpha Beta Pruning\n",
        "            if beta <= alpha:\n",
        "                break\n",
        "\n",
        "        return best\n",
        "\n",
        "    else:\n",
        "        best = MAX\n",
        "\n",
        "        # Recur for left and right children\n",
        "        for i in range(0, 2):\n",
        "            val = minmax(depth + 1, nodeIndex * 2 + i, True, values, alpha, beta)\n",
        "            best = min(best, val)\n",
        "            beta = min(beta, best)\n",
        "\n",
        "            # Alpha Beta Pruning\n",
        "            if beta <= alpha:\n",
        "                break\n",
        "\n",
        "        return best\n",
        "\n",
        "\n",
        "if __name__ == \"__main__\":\n",
        "    values = [3, 5, 6, 9, 1, 2, 0, -1]\n",
        "    print(\"The optimal value is:\", minmax(0, 0, True, values, MIN, MAX))\n"
      ],
      "metadata": {
        "colab": {
          "base_uri": "https://localhost:8080/"
        },
        "id": "2GVTUiLKaVsN",
        "outputId": "64438c36-20a7-44da-8b7f-54abef5eeb8b"
      },
      "execution_count": 7,
      "outputs": [
        {
          "output_type": "stream",
          "name": "stdout",
          "text": [
            "The optimal value is: 5\n"
          ]
        }
      ]
    }
  ]
}