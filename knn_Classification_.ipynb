{
  "nbformat": 4,
  "nbformat_minor": 0,
  "metadata": {
    "colab": {
      "provenance": [],
      "gpuType": "T4"
    },
    "kernelspec": {
      "name": "python3",
      "display_name": "Python 3"
    },
    "language_info": {
      "name": "python"
    },
    "accelerator": "GPU"
  },
  "cells": [
    {
      "cell_type": "code",
      "source": [
        "# Import libraries\n",
        "from sklearn.datasets import load_iris\n",
        "from sklearn.model_selection import train_test_split\n",
        "from sklearn.neighbors import KNeighborsClassifier\n",
        "from sklearn.metrics import accuracy_score\n",
        "\n",
        "# Step 1: Load dataset\n",
        "data = load_iris()               # Load the Iris dataset\n",
        "X = data.data                    # Features (inputs)\n",
        "y = data.target                  # Labels (outputs)\n",
        "\n",
        "# Step 2: Split data into training and testing sets (80% train, 20% test)\n",
        "X_train, X_test, y_train, y_test = train_test_split(\n",
        "    X, y, test_size=0.2, random_state=39\n",
        ")\n",
        "\n",
        "# Step 3: Create KNN model with k=3\n",
        "model = KNeighborsClassifier(n_neighbors=2)\n",
        "\n",
        "# Step 4: Train the model\n",
        "model.fit(X_train, y_train)\n",
        "\n",
        "# Step 5: Predict on both training and test data\n",
        "y_train_pred = model.predict(X_train)   # Predictions for training data\n",
        "y_test_pred = model.predict(X_test)     # Predictions for test data\n",
        "\n",
        "# Step 6: Evaluate accuracy for both\n",
        "train_accuracy = accuracy_score(y_train, y_train_pred)\n",
        "test_accuracy = accuracy_score(y_test, y_test_pred)\n",
        "\n",
        "# Step 7: Print the results\n",
        "print(\"Training Accuracy:\", train_accuracy)\n",
        "print(\"Testing Accuracy:\", test_accuracy)\n"
      ],
      "metadata": {
        "colab": {
          "base_uri": "https://localhost:8080/"
        },
        "id": "ZCfUsbt0OUCM",
        "outputId": "7f0f08de-5986-4bef-9b5f-b458965658e9"
      },
      "execution_count": 2,
      "outputs": [
        {
          "output_type": "stream",
          "name": "stdout",
          "text": [
            "Training Accuracy: 0.9833333333333333\n",
            "Testing Accuracy: 0.9333333333333333\n"
          ]
        }
      ]
    },
    {
      "cell_type": "code",
      "execution_count": null,
      "metadata": {
        "colab": {
          "base_uri": "https://localhost:8080/"
        },
        "id": "oK2Uo6h5LoZx",
        "outputId": "5b546689-e2b5-4a84-a9a3-1d6ada089560"
      },
      "outputs": [
        {
          "output_type": "stream",
          "name": "stdout",
          "text": [
            "Training Accuracy: 0.975\n",
            "Testing Accuracy: 0.9333333333333333\n"
          ]
        }
      ],
      "source": [
        "# Import libraries\n",
        "from sklearn.datasets import load_iris\n",
        "from sklearn.model_selection import train_test_split\n",
        "from sklearn.neighbors import KNeighborsClassifier\n",
        "from sklearn.metrics import accuracy_score\n",
        "\n",
        "# Step 1: Load dataset\n",
        "data = load_iris()               # Load the Iris dataset\n",
        "X = data.data                    # Features (inputs)\n",
        "y = data.target                  # Labels (outputs)\n",
        "\n",
        "# Step 2: Split data into training and testing sets (80% train, 20% test)\n",
        "X_train, X_test, y_train, y_test = train_test_split(\n",
        "    X, y, test_size=0.2, random_state=43\n",
        ")\n",
        "\n",
        "# Step 3: Create KNN model with k=3\n",
        "model = KNeighborsClassifier(n_neighbors=2)\n",
        "\n",
        "# Step 4: Train the model\n",
        "model.fit(X_train, y_train)\n",
        "\n",
        "# Step 5: Predict on both training and test data\n",
        "y_train_pred = model.predict(X_train)   # Predictions for training data\n",
        "y_test_pred = model.predict(X_test)     # Predictions for test data\n",
        "\n",
        "# Step 6: Evaluate accuracy for both\n",
        "train_accuracy = accuracy_score(y_train, y_train_pred)\n",
        "test_accuracy = accuracy_score(y_test, y_test_pred)\n",
        "\n",
        "# Step 7: Print the results\n",
        "print(\"Training Accuracy:\", train_accuracy)\n",
        "print(\"Testing Accuracy:\", test_accuracy)\n"
      ]
    }
  ]
}