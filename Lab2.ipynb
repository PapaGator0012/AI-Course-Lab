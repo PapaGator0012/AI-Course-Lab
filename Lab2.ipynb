{
  "nbformat": 4,
  "nbformat_minor": 0,
  "metadata": {
    "colab": {
      "provenance": [],
      "collapsed_sections": [
        "nR8yvfvo5tHT",
        "u072rbO96MJD"
      ],
      "toc_visible": true
    },
    "kernelspec": {
      "name": "python3",
      "display_name": "Python 3"
    },
    "language_info": {
      "name": "python"
    }
  },
  "cells": [
    {
      "cell_type": "markdown",
      "source": [],
      "metadata": {
        "id": "ky6gqVsIMfD1"
      }
    },
    {
      "cell_type": "code",
      "source": [],
      "metadata": {
        "id": "SARWd6nA6htr"
      },
      "execution_count": null,
      "outputs": []
    },
    {
      "cell_type": "markdown",
      "source": [],
      "metadata": {
        "id": "WMUbgMTRMe1F"
      }
    },
    {
      "cell_type": "markdown",
      "source": [
        "# **Dictionaries**"
      ],
      "metadata": {
        "id": "fOHFdu_g5s_T"
      }
    },
    {
      "cell_type": "code",
      "source": [
        "std_info=[\n",
        "    {\n",
        "        \"reg_id\":121,\n",
        "        \"name\":\"Hassam\",\n",
        "        \"age\":22,\n",
        "        \"section\":\"5C\",\n",
        "        \"department\":\"BSE\"\n",
        "    },\n",
        "    {\n",
        "        \"reg_id\":113,\n",
        "        \"name\":\"Asif Nawaz Khan\",\n",
        "        \"age\":25,\n",
        "        \"section\":\"5C\",\n",
        "        \"department\":\"BSE\"\n",
        "    }\n",
        "]\n",
        "\n",
        "students={\"Hassam\":65,\"Asif\":55,\"Yawar\":55,\"A.Rafay\":76}\n",
        "print(\"Keys:\" ,students.keys())\n",
        "print(\"Values:\" ,students.values())\n",
        "print(std_info)"
      ],
      "metadata": {
        "colab": {
          "base_uri": "https://localhost:8080/"
        },
        "id": "yum59A0zJF43",
        "outputId": "ea877856-cbfb-479b-a3b1-afbcfef50a3f"
      },
      "execution_count": null,
      "outputs": [
        {
          "output_type": "stream",
          "name": "stdout",
          "text": [
            "Keys: dict_keys(['Hassam', 'Asif', 'Yawar', 'A.Rafay'])\n",
            "Values: dict_values([65, 55, 55, 76])\n",
            "[{'reg_id': 121, 'name': 'Hassam', 'age': 22, 'section': '5C', 'department': 'BSE'}, {'reg_id': 113, 'name': 'Asif Nawaz Khan', 'age': 25, 'section': '5C', 'department': 'BSE'}]\n"
          ]
        }
      ]
    },
    {
      "cell_type": "markdown",
      "source": [
        "# **Lists**"
      ],
      "metadata": {
        "id": "nR8yvfvo5tHT"
      }
    },
    {
      "cell_type": "code",
      "source": [
        "num = [1,2,3,4,6,7,8,9,10]\n",
        "print(num)\n",
        "#created 10 Integrals\n",
        "print(\"sum is :\",sum(num))\n",
        "print(\"Max is :\",max(num))\n",
        "print(\"Min is :\",min(num))\n",
        "\n",
        "# Add or remove an element\n",
        "num.append(54)\n",
        "num.remove(1)\n",
        "#printing the updated list\n",
        "print(\"Updated List: \", num)\n",
        "\n",
        "#Sorting operations\n",
        "print(\"asscending order : \" , sorted(num))\n",
        "print(\"descending order : \" , sorted(num,reverse=True))"
      ],
      "metadata": {
        "colab": {
          "base_uri": "https://localhost:8080/"
        },
        "id": "K4FXj_rxAPJC",
        "outputId": "66bdca0e-c73c-481b-c69f-ffd0c28ef5b9"
      },
      "execution_count": null,
      "outputs": [
        {
          "output_type": "stream",
          "name": "stdout",
          "text": [
            "[1, 2, 3, 4, 6, 7, 8, 9, 10]\n",
            "sum is : 50\n",
            "Max is : 10\n",
            "Min is : 1\n",
            "Updated List:  [2, 3, 4, 6, 7, 8, 9, 10, 54]\n",
            "asscending order :  [2, 3, 4, 6, 7, 8, 9, 10, 54]\n",
            "descending order :  [54, 10, 9, 8, 7, 6, 4, 3, 2]\n"
          ]
        }
      ]
    },
    {
      "cell_type": "markdown",
      "source": [
        "# **Tuples**"
      ],
      "metadata": {
        "id": "u072rbO96MJD"
      }
    },
    {
      "cell_type": "code",
      "source": [
        "names =(\"Halo\",\"Battlefront II\",\"Arma 3\", \"Fortnite\",\"Helldivers II\")\n",
        "\n",
        "#access and print the 2nd and the Last element of the tuple\n",
        "print(\"Second element:\", names[1])\n",
        "print(\"Last element:\", names[-1])\n",
        "\n",
        "# Appending an element\n",
        "# names.append(\"Destiny 2\")\n",
        "# print(\"Updated list:\", names)\n",
        "\n",
        "\n",
        "#conver the tuple into a list\n",
        "nameList= list(names)\n",
        "nameList.append(\"Destiny 2\")\n",
        "print(\"Updated list:\", nameList);"
      ],
      "metadata": {
        "colab": {
          "base_uri": "https://localhost:8080/"
        },
        "id": "1hKGcVKAEobA",
        "outputId": "b45474f1-d456-4c1f-fefb-d2889ad25c5a"
      },
      "execution_count": null,
      "outputs": [
        {
          "output_type": "stream",
          "name": "stdout",
          "text": [
            "Second element: Battlefront II\n",
            "Last element: Helldivers II\n",
            "Updated list: ['Halo', 'Battlefront II', 'Arma 3', 'Fortnite', 'Helldivers II', 'Destiny 2']\n"
          ]
        }
      ]
    },
    {
      "cell_type": "markdown",
      "source": [
        "# **Sets**"
      ],
      "metadata": {
        "id": "NgUFGb_e6cib"
      }
    },
    {
      "cell_type": "code",
      "source": [
        "set_a={1,2,3,4,5}\n",
        "set_b={6,7,8,9,10}\n",
        "\n",
        "#Union Intersection Difference\n",
        "print(\"Union:\", set_a | set_b)\n",
        "print(\"Intersection:\", set_a & set_b)\n",
        "print(\"Difference:\", set_a - set_b)"
      ],
      "metadata": {
        "colab": {
          "base_uri": "https://localhost:8080/"
        },
        "id": "ntexKqkMIgs_",
        "outputId": "462960f6-1d00-4bbd-a5bc-8a92af067090"
      },
      "execution_count": null,
      "outputs": [
        {
          "output_type": "stream",
          "name": "stdout",
          "text": [
            "Union: {1, 2, 3, 4, 5, 6, 7, 8, 9, 10}\n",
            "Intersection: set()\n",
            "Difference: {1, 2, 3, 4, 5}\n"
          ]
        }
      ]
    }
  ]
}